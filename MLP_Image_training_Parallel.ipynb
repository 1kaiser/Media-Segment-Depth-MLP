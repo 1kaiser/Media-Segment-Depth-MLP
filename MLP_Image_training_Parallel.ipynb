{
  "nbformat": 4,
  "nbformat_minor": 0,
  "metadata": {
    "colab": {
      "provenance": [],
      "authorship_tag": "ABX9TyMyrzspCDPzeFmeXQnmRDbf",
      "include_colab_link": true
    },
    "kernelspec": {
      "name": "python3",
      "display_name": "Python 3"
    },
    "language_info": {
      "name": "python"
    },
    "gpuClass": "standard"
  },
  "cells": [
    {
      "cell_type": "markdown",
      "metadata": {
        "id": "view-in-github",
        "colab_type": "text"
      },
      "source": [
        "<a href=\"https://colab.research.google.com/github/1kaiser/Media-Segment-Depth-MLP/blob/main/MLP_Image_training_Parallel.ipynb\" target=\"_parent\"><img src=\"https://colab.research.google.com/assets/colab-badge.svg\" alt=\"Open In Colab\"/></a>"
      ]
    },
    {
      "cell_type": "code",
      "source": [
        "import tensorflow as tf\n",
        "import pathlib\n",
        "urls = 'https://github.com/1kaiser/Media-Segment-Depth-MLP/releases/download/v0.2/s.zip'\n",
        "data_dir = tf.keras.utils.get_file(origin=urls,\n",
        "                                   fname='s',\n",
        "                                   cache_subdir='/content/',\n",
        "                                   archive_format='auto',\n",
        "                                   untar=False,\n",
        "                                   extract=True)\n",
        "data_dir = pathlib.Path(data_dir)"
      ],
      "metadata": {
        "id": "9AJIkPwnV_sO",
        "outputId": "cb42aba2-3ac8-4c9e-bacc-1e6b10f673cd",
        "colab": {
          "base_uri": "https://localhost:8080/"
        }
      },
      "execution_count": null,
      "outputs": [
        {
          "output_type": "stream",
          "name": "stdout",
          "text": [
            "Downloading data from https://github.com/1kaiser/Media-Segment-Depth-MLP/releases/download/v0.2/s.zip\n",
            "821864248/821864248 [==============================] - 68s 0us/step\n"
          ]
        }
      ]
    },
    {
      "cell_type": "code",
      "source": [
        "import tensorflow as tf\n",
        "import pathlib\n",
        "dir='/content/files'\n",
        "urls = 'https://github.com/1kaiser/Snow-cover-area-estimation/releases/download/v1/imagesfolder.zip'\n",
        "data_dir = tf.keras.utils.get_file(origin=urls,\n",
        "                                   fname='s',\n",
        "                                   cache_subdir= dir,\n",
        "                                   archive_format='auto',\n",
        "                                   untar=False,\n",
        "                                   extract=True)\n",
        "!rm -r {dir}/s\n",
        "data_dir = pathlib.Path(data_dir)"
      ],
      "metadata": {
        "colab": {
          "base_uri": "https://localhost:8080/"
        },
        "id": "d3eHmP0giEf4",
        "outputId": "2d57387b-8af4-468b-e926-02df44e4c44c"
      },
      "execution_count": 13,
      "outputs": [
        {
          "output_type": "stream",
          "name": "stdout",
          "text": [
            "Downloading data from https://github.com/1kaiser/Snow-cover-area-estimation/releases/download/v1/imagesfolder.zip\n",
            "1116364563/1116364563 [==============================] - 34s 0us/step\n"
          ]
        }
      ]
    },
    {
      "cell_type": "markdown",
      "source": [
        "GeoTiff to Image & Image to Geotiff conversion\n"
      ],
      "metadata": {
        "id": "nsxKojZ6uUUp"
      }
    },
    {
      "cell_type": "code",
      "source": [
        "import numpy as np\n",
        "import matplotlib.pyplot as plt\n",
        "import pandas as pd\n",
        "import os.path\n",
        "import re\n",
        "\n",
        "from osgeo import gdal\n",
        "from osgeo import gdal_array\n",
        "from osgeo import osr\n",
        "\n",
        "def get_gain_band(input_file):\n",
        "    \"\"\"get GAIN_BAND from meta file (*.tif.txt)\"\"\"\n",
        "     # define file name of *.tif.txt\n",
        "    ifile_txt = re.sub(r'.tif', '.tif.txt', input_file)\n",
        "    ld = open(ifile_txt)\n",
        "    lines = ld.readlines()\n",
        "    ld.close()\n",
        "    \n",
        "    gain_band = []\n",
        "    for line in lines:\n",
        "        if line.find(\"GAIN_BAND\") >= 0:\n",
        "             gain_band.append(float((re.split(' ', line)[1]).strip()))\n",
        "    return gain_band\n",
        "\n",
        "def tif2array(input_file, calc_gain=True):\n",
        "    \"\"\"\n",
        "    read GeoTiff and convert to numpy.ndarray.\n",
        "    Inputs:\n",
        "        input_file (str) : the name of input GeoTiff file.\n",
        "        calc_gain (bool) : wheter calc GAIN to DN  or not (defaul:True).\n",
        "    return:\n",
        "        image(np.array) : image for each bands\n",
        "        dataset : for gdal's data drive.\n",
        "    \"\"\"\n",
        "    dataset = gdal.Open(input_file, gdal.GA_ReadOnly)\n",
        "    # Allocate our array using the first band's datatype\n",
        "    image_datatype = dataset.GetRasterBand(1).DataType\n",
        "    image = np.zeros((dataset.RasterYSize, dataset.RasterXSize, dataset.RasterCount),\n",
        "                     dtype=float)\n",
        "    \n",
        "    if calc_gain == True:\n",
        "        # get gain\n",
        "        gain = get_gain_band(input_file)\n",
        "    \n",
        "    # Loop over all bands in dataset\n",
        "    for b in range(dataset.RasterCount):\n",
        "        # Remember, GDAL index is on 1, but Python is on 0 -- so we add 1 for our GDAL calls\n",
        "        band = dataset.GetRasterBand(b + 1)\n",
        "        # Read in the band's data into the third dimension of our array\n",
        "        if calc_gain == True:\n",
        "            # calc gain value for each bands\n",
        "            image[:, :, b] = band.ReadAsArray() * gain[b]\n",
        "        else:\n",
        "            image[:, :, b] = band.ReadAsArray()\n",
        "    return image, dataset\n",
        "\n",
        "def array2raster(newRasterfn, dataset, array, dtype):\n",
        "    \"\"\"\n",
        "    save GTiff file from numpy.array\n",
        "    input:\n",
        "        newRasterfn: save file name\n",
        "        dataset : original tif file\n",
        "        array : numpy.array\n",
        "        dtype: Byte or Float32.\n",
        "    \"\"\"\n",
        "    cols = array.shape[1]\n",
        "    rows = array.shape[0]\n",
        "    originX, pixelWidth, b, originY, d, pixelHeight = dataset.GetGeoTransform() \n",
        "\n",
        "    driver = gdal.GetDriverByName('GTiff')\n",
        "\n",
        "    # set data type to save.\n",
        "    GDT_dtype = gdal.GDT_Unknown\n",
        "    if dtype == \"Byte\": \n",
        "        GDT_dtype = gdal.GDT_Byte\n",
        "    elif dtype == \"Float32\":\n",
        "        GDT_dtype = gdal.GDT_Float32\n",
        "    else:\n",
        "        print(\"Not supported data type.\")\n",
        "\n",
        "    # set number of band.\n",
        "    if array.ndim == 2:\n",
        "        band_num = 1\n",
        "    else:\n",
        "        band_num = array.shape[2]\n",
        "\n",
        "    outRaster = driver.Create(newRasterfn, cols, rows, band_num, GDT_dtype)\n",
        "    outRaster.SetGeoTransform((originX, pixelWidth, 0, originY, 0, pixelHeight))\n",
        "\n",
        "    # # Loop over all bands.\n",
        "    # for b in range(band_num):\n",
        "    #     outband = outRaster.GetRasterBand(b + 1)\n",
        "    #     # Read in the band's data into the third dimension of our array\n",
        "    #     if band_num == 1:\n",
        "    #         outband.WriteArray(array)\n",
        "    #     else:\n",
        "    #         outband.WriteArray(array[:,:,b])\n",
        "    outband = outRaster.GetRasterBand(1)\n",
        "    outband.WriteArray(array.reshape(rows, cols))\n",
        "    # setting srs from input tif file.\n",
        "    prj=dataset.GetProjection()\n",
        "    outRasterSRS = osr.SpatialReference(wkt=prj)\n",
        "    outRaster.SetProjection(outRasterSRS.ExportToWkt())\n",
        "    outband.FlushCache()\n",
        "    return newRasterfn"
      ],
      "metadata": {
        "id": "zegP1eDzubb7"
      },
      "execution_count": 14,
      "outputs": []
    },
    {
      "cell_type": "code",
      "source": [
        " \n",
        "\n",
        "INPUT_PATH = \"/content/files/MOD09A1.061_sur_refl_b01_doy2000065_aid0001.tif\"\n",
        "INPUT,Datasetq = tif2array(INPUT_PATH,0) #<<<<<<<<<<<<<<<<<< input"
      ],
      "metadata": {
        "id": "PTOobw65knnh"
      },
      "execution_count": 15,
      "outputs": []
    },
    {
      "cell_type": "code",
      "source": [
        "INPUT.ndim\n",
        "INPUT.reshape(INPUT.shape[0],INPUT.shape[1]).shape"
      ],
      "metadata": {
        "id": "dJyJW55Gkl2p",
        "outputId": "7d73b881-4439-4153-ee4a-03d65c776b64",
        "colab": {
          "base_uri": "https://localhost:8080/"
        }
      },
      "execution_count": 18,
      "outputs": [
        {
          "output_type": "execute_result",
          "data": {
            "text/plain": [
              "(233, 454)"
            ]
          },
          "metadata": {},
          "execution_count": 18
        }
      ]
    },
    {
      "cell_type": "code",
      "source": [
        "\n",
        "     \n",
        "\n",
        "INPUT_PATH = \"/content/files/MOD09A1.061_sur_refl_b01_doy2000065_aid0001.tif\"\n",
        "INPUT,Datasetq = tif2array(INPUT_PATH,0) #<<<<<<<<<<<<<<<<<< input\n",
        "type(INPUT)\n",
        "print(INPUT,Datasetq)\n",
        "len(INPUT)\n",
        "INPUT[0].shape\n",
        "dataset = gdal.Open(INPUT_PATH, gdal.GA_ReadOnly)\n",
        "originX, pixelWidth, b, originY, d, pixelHeight = dataset.GetGeoTransform() \n",
        "print(originX, pixelWidth, b, originY, d, pixelHeight)\n",
        "print(INPUT.shape)\n",
        "OUTPUT = array2raster(\"geo1.tif\", Datasetq, INPUT, \"Float32\") #<<<<<<<<<<<<< output\n",
        "\n",
        "type(OUTPUT)\n",
        "OUTPUT\n",
        "     \n",
        "\n"
      ],
      "metadata": {
        "id": "mrNlWZ8cvPNF",
        "colab": {
          "base_uri": "https://localhost:8080/",
          "height": 921
        },
        "outputId": "1fd87792-862e-4c0c-da6d-a1bfc1894b22"
      },
      "execution_count": 25,
      "outputs": [
        {
          "output_type": "stream",
          "name": "stdout",
          "text": [
            "[[[-28672.]\n",
            "  [-28672.]\n",
            "  [-28672.]\n",
            "  ...\n",
            "  [-28672.]\n",
            "  [-28672.]\n",
            "  [-28672.]]\n",
            "\n",
            " [[-28672.]\n",
            "  [-28672.]\n",
            "  [-28672.]\n",
            "  ...\n",
            "  [-28672.]\n",
            "  [-28672.]\n",
            "  [-28672.]]\n",
            "\n",
            " [[-28672.]\n",
            "  [-28672.]\n",
            "  [-28672.]\n",
            "  ...\n",
            "  [-28672.]\n",
            "  [-28672.]\n",
            "  [-28672.]]\n",
            "\n",
            " ...\n",
            "\n",
            " [[-28672.]\n",
            "  [-28672.]\n",
            "  [-28672.]\n",
            "  ...\n",
            "  [-28672.]\n",
            "  [-28672.]\n",
            "  [-28672.]]\n",
            "\n",
            " [[-28672.]\n",
            "  [-28672.]\n",
            "  [-28672.]\n",
            "  ...\n",
            "  [-28672.]\n",
            "  [-28672.]\n",
            "  [-28672.]]\n",
            "\n",
            " [[-28672.]\n",
            "  [-28672.]\n",
            "  [-28672.]\n",
            "  ...\n",
            "  [-28672.]\n",
            "  [-28672.]\n",
            "  [-28672.]]] <osgeo.gdal.Dataset; proxy of <Swig Object of type 'GDALDatasetShadow *' at 0x7fdda7e7a540> >\n",
            "75.97916665986006 0.004166666666293395 0.0 32.420833330428906 0.0 -0.004166666666293395\n",
            "(233, 454, 1)\n"
          ]
        },
        {
          "output_type": "execute_result",
          "data": {
            "text/plain": [
              "'geo1.tif'"
            ],
            "application/vnd.google.colaboratory.intrinsic+json": {
              "type": "string"
            }
          },
          "metadata": {},
          "execution_count": 25
        }
      ]
    },
    {
      "cell_type": "code",
      "source": [
        "array2raster(\"geo1.tif\", Datasetq, INPUT, \"Float32\")"
      ],
      "metadata": {
        "id": "y8fRTXAXlwZ5",
        "outputId": "c4a18364-209b-4df4-d674-1b1a9cb1e396",
        "colab": {
          "base_uri": "https://localhost:8080/",
          "height": 35
        }
      },
      "execution_count": 26,
      "outputs": [
        {
          "output_type": "execute_result",
          "data": {
            "text/plain": [
              "'geo1.tif'"
            ],
            "application/vnd.google.colaboratory.intrinsic+json": {
              "type": "string"
            }
          },
          "metadata": {},
          "execution_count": 26
        }
      ]
    },
    {
      "cell_type": "code",
      "source": [
        "OUTPUT"
      ],
      "metadata": {
        "id": "XkYrVL1dlZKc",
        "outputId": "bd1fc6d0-6b7f-4ac4-bf9f-3677f561d5b9",
        "colab": {
          "base_uri": "https://localhost:8080/",
          "height": 35
        }
      },
      "execution_count": 24,
      "outputs": [
        {
          "output_type": "execute_result",
          "data": {
            "text/plain": [
              "'g'"
            ],
            "application/vnd.google.colaboratory.intrinsic+json": {
              "type": "string"
            }
          },
          "metadata": {},
          "execution_count": 24
        }
      ]
    },
    {
      "cell_type": "code",
      "source": [
        "\n",
        "print(INPUT.shape)\n",
        "INPUT[0][:,:].shape\n",
        "from google.colab.patches import cv2_imshow\n",
        "cv2_imshow('/content/geo1.tif')"
      ],
      "metadata": {
        "id": "gIFSAbZsku1d",
        "outputId": "85d139c6-887b-4b5b-e9f4-0ac8da12c0ed",
        "colab": {
          "base_uri": "https://localhost:8080/",
          "height": 339
        }
      },
      "execution_count": 28,
      "outputs": [
        {
          "output_type": "stream",
          "name": "stdout",
          "text": [
            "(233, 454, 1)\n"
          ]
        },
        {
          "output_type": "error",
          "ename": "AttributeError",
          "evalue": "ignored",
          "traceback": [
            "\u001b[0;31m---------------------------------------------------------------------------\u001b[0m",
            "\u001b[0;31mAttributeError\u001b[0m                            Traceback (most recent call last)",
            "\u001b[0;32m<ipython-input-28-afb8fc1c4c8e>\u001b[0m in \u001b[0;36m<module>\u001b[0;34m\u001b[0m\n\u001b[1;32m      2\u001b[0m \u001b[0mINPUT\u001b[0m\u001b[0;34m[\u001b[0m\u001b[0;36m0\u001b[0m\u001b[0;34m]\u001b[0m\u001b[0;34m[\u001b[0m\u001b[0;34m:\u001b[0m\u001b[0;34m,\u001b[0m\u001b[0;34m:\u001b[0m\u001b[0;34m]\u001b[0m\u001b[0;34m.\u001b[0m\u001b[0mshape\u001b[0m\u001b[0;34m\u001b[0m\u001b[0;34m\u001b[0m\u001b[0m\n\u001b[1;32m      3\u001b[0m \u001b[0;32mfrom\u001b[0m \u001b[0mgoogle\u001b[0m\u001b[0;34m.\u001b[0m\u001b[0mcolab\u001b[0m\u001b[0;34m.\u001b[0m\u001b[0mpatches\u001b[0m \u001b[0;32mimport\u001b[0m \u001b[0mcv2_imshow\u001b[0m\u001b[0;34m\u001b[0m\u001b[0;34m\u001b[0m\u001b[0m\n\u001b[0;32m----> 4\u001b[0;31m \u001b[0mcv2_imshow\u001b[0m\u001b[0;34m(\u001b[0m\u001b[0;34m'/content/geo1.tif'\u001b[0m\u001b[0;34m)\u001b[0m\u001b[0;34m\u001b[0m\u001b[0;34m\u001b[0m\u001b[0m\n\u001b[0m",
            "\u001b[0;32m/usr/local/lib/python3.8/dist-packages/google/colab/patches/__init__.py\u001b[0m in \u001b[0;36mcv2_imshow\u001b[0;34m(a)\u001b[0m\n\u001b[1;32m     16\u001b[0m       \u001b[0mimage\u001b[0m\u001b[0;34m.\u001b[0m\u001b[0;34m\u001b[0m\u001b[0;34m\u001b[0m\u001b[0m\n\u001b[1;32m     17\u001b[0m   \"\"\"\n\u001b[0;32m---> 18\u001b[0;31m   \u001b[0ma\u001b[0m \u001b[0;34m=\u001b[0m \u001b[0ma\u001b[0m\u001b[0;34m.\u001b[0m\u001b[0mclip\u001b[0m\u001b[0;34m(\u001b[0m\u001b[0;36m0\u001b[0m\u001b[0;34m,\u001b[0m \u001b[0;36m255\u001b[0m\u001b[0;34m)\u001b[0m\u001b[0;34m.\u001b[0m\u001b[0mastype\u001b[0m\u001b[0;34m(\u001b[0m\u001b[0;34m'uint8'\u001b[0m\u001b[0;34m)\u001b[0m\u001b[0;34m\u001b[0m\u001b[0;34m\u001b[0m\u001b[0m\n\u001b[0m\u001b[1;32m     19\u001b[0m   \u001b[0;31m# cv2 stores colors as BGR; convert to RGB\u001b[0m\u001b[0;34m\u001b[0m\u001b[0;34m\u001b[0m\u001b[0;34m\u001b[0m\u001b[0m\n\u001b[1;32m     20\u001b[0m   \u001b[0;32mif\u001b[0m \u001b[0ma\u001b[0m\u001b[0;34m.\u001b[0m\u001b[0mndim\u001b[0m \u001b[0;34m==\u001b[0m \u001b[0;36m3\u001b[0m\u001b[0;34m:\u001b[0m\u001b[0;34m\u001b[0m\u001b[0;34m\u001b[0m\u001b[0m\n",
            "\u001b[0;31mAttributeError\u001b[0m: 'str' object has no attribute 'clip'"
          ]
        }
      ]
    },
    {
      "cell_type": "code",
      "source": [
        "from google.colab import drive\n",
        "drive.mount('/content/drive')"
      ],
      "metadata": {
        "id": "z8_VMalkyG_I",
        "outputId": "0dfcfe93-e149-4407-d21c-b475da54acd3",
        "colab": {
          "base_uri": "https://localhost:8080/"
        }
      },
      "execution_count": null,
      "outputs": [
        {
          "output_type": "stream",
          "name": "stdout",
          "text": [
            "Mounted at /content/drive\n"
          ]
        }
      ]
    },
    {
      "cell_type": "code",
      "source": [
        "!unzip /content/archive.zip #unzipping the flower images from archive.."
      ],
      "metadata": {
        "id": "Y9y5Vu6tyw10"
      },
      "execution_count": null,
      "outputs": []
    },
    {
      "cell_type": "code",
      "source": [
        "import cv2\n",
        "from google.colab.patches import cv2_imshow\n",
        "import numpy as np \n",
        "def show_image(argu):\n",
        "  L1 = argu[0]\n",
        "  predicted_image = np.array(argu[0],  dtype=np.uint8).reshape(newsize) # This would be your image array\n",
        "  a = predicted_image\n",
        "  for i in range(0,argu.shape[0]):\n",
        "    predicted_image = np.array(argu[i],  dtype=np.uint8).reshape(newsize) \n",
        "    a = cv2.hconcat([a, predicted_image])\n",
        "  cv2_imshow(a)\n",
        "\n",
        "show_image(metrics['logits'])"
      ],
      "metadata": {
        "id": "Us10420y54cU"
      },
      "execution_count": null,
      "outputs": []
    },
    {
      "cell_type": "markdown",
      "source": [
        "## **RUN 2 testing** "
      ],
      "metadata": {
        "id": "OOUqoXxBUCL2"
      }
    },
    {
      "cell_type": "markdown",
      "metadata": {
        "id": "zjgCYS3gUCL3"
      },
      "source": [
        "**Model and training code**\n",
        "Our model is a coordinate-based multilayer perceptron. In this example, for each input image coordinate $(x,y)$, the model predicts the associated color $(r,g,b)$ or any $(gray)$.\n",
        "\n",
        "![Network diagram](https://user-images.githubusercontent.com/3310961/85066930-ad444580-b164-11ea-9cc0-17494679e71f.png)"
      ]
    },
    {
      "cell_type": "markdown",
      "source": [
        "**POSITIONAL ENCODING BLOCK** "
      ],
      "metadata": {
        "id": "iIR4yJ1DUCL3"
      }
    },
    {
      "cell_type": "code",
      "source": [
        "#✅\n",
        "import jax\n",
        "import jax.numpy as jnp\n",
        "\n",
        "\n",
        "positional_encoding_dims = 6  # Number of positional encodings applied\n",
        "\n",
        "def positional_encoding(args):\n",
        "    image_height_x_image_width, cha = args.shape\n",
        "    inputs_freq = jax.vmap(lambda x: args * 2.0 ** x)(jnp.arange(positional_encoding_dims))\n",
        "    x = jnp.stack([jnp.sin(inputs_freq), jnp.cos(inputs_freq)])\n",
        "    x = x.swapaxes(0, 2)\n",
        "    x = x.reshape([image_height_x_image_width, -1])\n",
        "    x = jnp.concatenate([args, x], axis=-1)\n",
        "    return x\n",
        "\n",
        "def batch_encoded(args):\n",
        "    img_list = []\n",
        "    for i in range(args.shape[0]):\n",
        "        c = args[i]\n",
        "        c = c.reshape(-1, c.shape[2])\n",
        "        p = positional_encoding(c)\n",
        "        img_list.append(p.reshape(args.shape[1],args.shape[2],p.shape[1]))\n",
        "        x = jnp.array(img_list)\n",
        "    return x\n",
        "\n"
      ],
      "metadata": {
        "id": "A9QJZJ50UCL3"
      },
      "execution_count": null,
      "outputs": []
    },
    {
      "cell_type": "markdown",
      "source": [
        "**MLP MODEL DEFINATION**\n",
        "Basically, passing input points through a simple Fourier Feature Mapping enables an MLP to learn high-frequency functions (such as an RGB image) in low-dimensional problem domains (such as a 2D coordinate of pixels)."
      ],
      "metadata": {
        "id": "AicbTZ7jUCL3"
      }
    },
    {
      "cell_type": "code",
      "source": [
        "#✅\n",
        "!python -m pip install -qq -U flax orbax\n",
        "# Orbax needs to enable asyncio in a Colab environment.\n",
        "!python -m pip install -qq nest_asyncio\n",
        "\n",
        "\n",
        "import jax\n",
        "import jax.numpy as jnp\n",
        "\n",
        "import flax\n",
        "import optax\n",
        "from typing import Any\n",
        "\n",
        "from jax import lax\n",
        "import flax.linen as nn\n",
        "from flax.training import train_state, common_utils\n",
        "\n",
        "apply_positional_encoding = True # Apply posittional encoding to the input or not\n",
        "ndl = 8 # num_dense_layers Number of dense layers in MLP\n",
        "dlw = 256 # dense_layer_width Dimentionality of dense layers' output space \n",
        "\n",
        "##########################################<< MLP MODEL >>#########################################\n",
        "class MLPModel(nn.Module):\n",
        "    dtype: Any = jnp.float32\n",
        "    precision: Any = lax.Precision.DEFAULT\n",
        "    apply_positional_encoding: bool = apply_positional_encoding\n",
        "    @nn.compact\n",
        "    def __call__(self, input_points):\n",
        "      x = batch_encoded(input_points) if self.apply_positional_encoding else input_points\n",
        "      for i in range(ndl):\n",
        "          x = nn.Dense(dlw,dtype=self.dtype,precision=self.precision)(x)\n",
        "          x = nn.relu(x)\n",
        "          x = jnp.concatenate([x, input_points], axis=-1) if i == 4 else x\n",
        "      x = nn.Dense(1, dtype=self.dtype, precision=self.precision)(x)\n",
        "      return x\n",
        "##########################################<< MLP MODEL >>#########################################"
      ],
      "metadata": {
        "id": "qLuo6LGHUCL3"
      },
      "execution_count": null,
      "outputs": []
    },
    {
      "cell_type": "markdown",
      "source": [
        "**initialize the module**"
      ],
      "metadata": {
        "id": "xGaXMyhpUCL3"
      }
    },
    {
      "cell_type": "code",
      "source": [
        "#✅\n",
        "!python -m pip install -q -U flax\n",
        "import optax\n",
        "from flax.training import train_state\n",
        "import jax.numpy as jnp\n",
        "import jax\n",
        "\n",
        "\n",
        "def Create_train_state(r_key, model, shape, learning_rate ) -> train_state.TrainState:\n",
        "    print(shape)\n",
        "    variables = model.init(r_key, jnp.ones(shape)) \n",
        "    optimizer = optax.adam(learning_rate) \n",
        "    return train_state.TrainState.create(\n",
        "        apply_fn = model.apply,\n",
        "        tx=optimizer,\n",
        "        params=variables['params']\n",
        "    )\n",
        "\n",
        "learning_rate = 1e-4\n",
        "batch_size_no = 64\n",
        "\n",
        "model = MLPModel() # Instantiate the Model"
      ],
      "metadata": {
        "id": "FMRDDW0JUCL3"
      },
      "execution_count": null,
      "outputs": []
    },
    {
      "cell_type": "markdown",
      "source": [
        "**defining loss function**"
      ],
      "metadata": {
        "id": "z1SX4YdxUCL4"
      }
    },
    {
      "cell_type": "code",
      "source": [
        "#serial\n",
        "def image_difference_loss(logits, labels):\n",
        "    loss = .5 * jnp.mean((logits - labels) ** 2) \n",
        "    return loss\n",
        "def compute_metrics(*, logits, labels):\n",
        "  loss = image_difference_loss(logits, labels)\n",
        "  metrics = {\n",
        "      'loss': loss,     #LOSS\n",
        "      'logits': logits, #PREDICTED IMAGE\n",
        "      'labels': labels  #ACTUAL IMAGE\n",
        "  }\n",
        "  return metrics"
      ],
      "metadata": {
        "id": "iYslN8Z7UCL4"
      },
      "execution_count": null,
      "outputs": []
    },
    {
      "cell_type": "markdown",
      "source": [
        "**train step defination**"
      ],
      "metadata": {
        "id": "aRW6GB7RUCL4"
      }
    },
    {
      "cell_type": "code",
      "source": [
        "#cpu serial\n",
        "import jax\n",
        "\n",
        "def train_step(state: train_state.TrainState, batch: jnp.asarray, rng):\n",
        "    image, label = batch  \n",
        "    def loss_fn(params):\n",
        "        logits = state.apply_fn({'params': params}, image);\n",
        "        loss =  image_difference_loss(logits, label);\n",
        "        return loss, logits\n",
        "\n",
        "    gradient_fn = jax.value_and_grad(loss_fn, has_aux=True)\n",
        "    (_, logits), grads = gradient_fn(state.params)\n",
        "    new_state = state.apply_gradients(grads=grads)\n",
        "    logs = compute_metrics(logits=logits, labels=label)\n",
        "    return new_state, logs\n",
        "\n",
        "import jax\n",
        "@jax.jit\n",
        "def eval_step(state, image):\n",
        "    logits = state.apply_fn({'params': state.params}, image)\n",
        "    return compute_metrics(logits=logits, labels=image)\n"
      ],
      "metadata": {
        "id": "KUYaqngCUCL4"
      },
      "execution_count": null,
      "outputs": []
    },
    {
      "cell_type": "markdown",
      "source": [
        "**image conversion fiunctions**"
      ],
      "metadata": {
        "id": "Kz85hOhsUCL4"
      }
    },
    {
      "cell_type": "code",
      "source": [
        "from PIL import Image\n",
        "import jax.numpy as jnp\n",
        "def imageGRAY(argv):\n",
        "    im = Image.open(argv).convert('L')\n",
        "    tvt, tvu = jnp.asarray(im.resize(newsize)),jnp.asarray(im.resize(newsize)).reshape(-1,1)\n",
        "    return tvt, tvu\n",
        "def imageRGB(argv):\n",
        "    im = Image.open(argv)\n",
        "    tvt, tvu = jnp.asarray(im.resize(newsize)),jnp.asarray(im.resize(newsize)).reshape(-1,3)\n",
        "    return tvt, tvu"
      ],
      "metadata": {
        "id": "qb1oYFIXUCL4"
      },
      "execution_count": null,
      "outputs": []
    },
    {
      "cell_type": "markdown",
      "source": [
        "**image dataset, image size and batch size Setup**"
      ],
      "metadata": {
        "id": "3BSv3BxMUCL4"
      }
    },
    {
      "cell_type": "code",
      "source": [
        "########################################## to load the data in batches as mentioned single batch of images with already provided sizes \n",
        "import jax\n",
        "from jax import random\n",
        "import jax.numpy as jnp\n",
        "\n",
        "newsize = (140,140) #(260, 260) # /.... 233 * 454\n",
        "batch_size = 40\n",
        "\n",
        "import os\n",
        "x_image_dir = r'/content/MEDIAPIPEinput/'\n",
        "y_image_dir = r'/content/annotated_images/'\n",
        "#############################################################################\n",
        "bandend = [\"c\",\".png\", \"b02\"]\n",
        "expression_b2 = bandend[1]\n",
        "x_total_images =  [f for f in os.listdir(x_image_dir) if f.__contains__(expression_b2)]\n",
        "x_total_images.sort()\n",
        "x_total_images_path = [os.path.join(x_image_dir, i) for i in x_total_images if i != 'outputs']\n",
        "no_of_batches = int(len(x_total_images_path)/batch_size)\n",
        "\n",
        "\n",
        "y_total_images =  [f for f in os.listdir(y_image_dir) if f.__contains__(expression_b2)]\n",
        "y_total_images.sort()\n",
        "y_total_images_path = [os.path.join(y_image_dir, i) for i in y_total_images if i != 'outputs']\n",
        "######################################## making 8 array of input for each device >>>\n",
        "def batchedimages(total_images_path, image_locations):\n",
        "  RGB8 = jnp.asarray((imageRGB(total_images_path[image_locations[0]])[0]))\n",
        "  return RGB8\n",
        "\n",
        "def data_stream():\n",
        "  key = random.PRNGKey(0)\n",
        "  perm = random.permutation(key, len(x_total_images_path))\n",
        "  x_img_list = []\n",
        "  y_img_list = []\n",
        "  for i in range(no_of_batches):\n",
        "    batch_idx = perm[i * batch_size : (i + 1) * batch_size]; #print(batch_idx)\n",
        "    x_img_list.append(batchedimages(x_total_images_path, batch_idx))\n",
        "    y_img_list.append(batchedimages(y_total_images_path, batch_idx))\n",
        "  yield jnp.array(x_img_list), jnp.array(y_img_list)\n",
        "\n"
      ],
      "metadata": {
        "id": "tveEVVN5UCL4"
      },
      "execution_count": null,
      "outputs": []
    },
    {
      "cell_type": "code",
      "source": [
        "#@title # **👠HIGH HEELS RUN >>>>>>>>>>>** { vertical-output: true }\n",
        "newsize = (140,140) #(260, 260) # /.... 233 * 454\n",
        "\n",
        "import jax\n",
        "from jax import random\n",
        "from tqdm import tqdm\n",
        "import re\n",
        "from google.colab import output\n",
        "import orbax.checkpoint as orbax\n",
        "from flax.training import checkpoints\n",
        "\n",
        "import optax\n",
        "import nest_asyncio\n",
        "nest_asyncio.apply()\n",
        "\n",
        "rng = jax.random.PRNGKey(0)\n",
        "CKPT_DIR = 'ckpts'\n",
        "\n",
        "######################<<<< initiating train state\n",
        "count = 0\n",
        "if count == 0 :\n",
        "  batches = data_stream()\n",
        "  BATCH, H, W, Channels = next(batches)[0].shape\n",
        "  state = Create_train_state( rng, model, (BATCH, H, W, Channels ), learning_rate ) \n",
        "  count = 1\n",
        "#✅✅🔻 state = flax.jax_utils.replicate(state)  # FLAX will replicate the state to every device so that updating can be made easy\n",
        "\n",
        "###################### \n",
        "checkpoint_available = 0\n",
        "pattern = re.compile(\"checkpoint_\\d+\")   # to search for \"checkpoint_*munerical value*\" numerical value of any length is denoted by regular expression \"\\d+\"\n",
        "dir = \"/content/ckpts/\"\n",
        "isFile = os.path.isdir(dir)\n",
        "if isFile:\n",
        "  for filepath in os.listdir(dir):\n",
        "      if pattern.match(filepath):\n",
        "          checkpoint_available = 1\n",
        "\n",
        "total_epochs = 50\n",
        "for epochs in tqdm(range(no_of_batches-5)):  \n",
        "  batches = data_stream()\n",
        "\n",
        "  if checkpoint_available:\n",
        "    state = checkpoints.restore_checkpoint(ckpt_dir=CKPT_DIR, target=state)\n",
        "    checkpoint_available = 0 # << Flag updated >>> to stop loading the same checkpoint in the next iteration then remove the checkpoint directory\n",
        "    !rm -r {dir}\n",
        "  input_data = next(batches)\n",
        "  for bbb in tqdm(range(total_epochs)):\n",
        "    state, metrics = train_step(state, input_data, rng)\n",
        "    # output.clear()\n",
        "    print(\"loss: \",metrics['loss'],\" <<< \") # naming of the checkpoint is \"checkpoint_*\"  where \"*\" => value of the steps variable, i.e. 'epochs'\n",
        "  orbax_checkpointer = orbax.Checkpointer(orbax.PyTreeCheckpointHandler())\n",
        "  checkpoints.save_checkpoint(ckpt_dir=CKPT_DIR, target=state, step=epochs, prefix='checkpoint_', keep=1, overwrite=False, orbax_checkpointer=orbax_checkpointer)\n",
        "  # restored_state = checkpoints.restore_checkpoint(ckpt_dir=CKPT_DIR, target=state) # using to get the checkpoint loaded , it can be latest one , or if already available as checkpoint in the \"CKPT_DIR\" directory then take the file from directory then save in >> restored_checkpoints\n",
        "  ##################################################\n",
        "\n"
      ],
      "metadata": {
        "cellView": "form",
        "id": "rs2HKO3NUCL5"
      },
      "execution_count": null,
      "outputs": []
    },
    {
      "cell_type": "markdown",
      "source": [
        "**inference engine**"
      ],
      "metadata": {
        "id": "yZwxFsKYUCL5"
      }
    },
    {
      "cell_type": "code",
      "source": [
        "\n",
        "# newsize = (140,140) #(260, 260) # /.... 233 * 454\n",
        "from google.colab.patches import cv2_imshow\n",
        "import numpy as np \n",
        "from google.colab import output\n",
        "\n",
        "!wget https://live.staticflickr.com/7492/15677707699_d9d67acf9d_b.jpg -O a.jpg\n",
        "image_in = '/content/a.jpg'\n",
        "\n",
        "from PIL import Image\n",
        "import jax.numpy as jnp\n",
        "def imageRGB(argv):\n",
        "    im = Image.open(argv)\n",
        "    tvt, tvu = jnp.asarray(im.resize(newsize)),jnp.asarray(im.resize(newsize)).reshape(-1,3)\n",
        "    return tvt, tvu\n",
        "image = jnp.asarray((imageRGB(image_in)[1]))\n",
        "#restored_state = checkpoints.restore_checkpoint(ckpt_dir=CKPT_DIR, target=state)\n",
        "#state = restored_state\n",
        "prediction = eval_step(state, image)\n",
        "prediction['loss']\n",
        "\n",
        "\n",
        "predicted_image = np.array(prediction['logits'],  dtype=np.uint8).reshape(newsize) \n",
        "cv2_imshow(predicted_image)\n"
      ],
      "metadata": {
        "id": "u4qN8DkhUCL5"
      },
      "execution_count": null,
      "outputs": []
    }
  ]
}